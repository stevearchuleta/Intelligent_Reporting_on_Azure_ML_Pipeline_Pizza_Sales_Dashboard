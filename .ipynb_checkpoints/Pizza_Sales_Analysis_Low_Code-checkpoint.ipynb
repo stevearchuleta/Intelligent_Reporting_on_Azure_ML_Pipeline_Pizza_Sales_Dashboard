{
 "cells": [
  {
   "cell_type": "markdown",
   "metadata": {
    "nteract": {
     "transient": {
      "deleting": false
     }
    }
   },
   "source": [
    "# **Project 1: Pizza Sales Analysis**"
   ]
  },
  {
   "cell_type": "markdown",
   "metadata": {
    "nteract": {
     "transient": {
      "deleting": false
     }
    }
   },
   "source": [
    "## **Problem Statement**"
   ]
  },
  {
   "cell_type": "markdown",
   "metadata": {
    "nteract": {
     "transient": {
      "deleting": false
     }
    }
   },
   "source": [
    "### **Business Context**"
   ]
  },
  {
   "cell_type": "markdown",
   "metadata": {},
   "source": [
    "A moderately sized, locally popular food joint operates a chain of outlets located in a metropolitan area, offering a diverse menu of pizzas, sides, and beverages. Despite having a steady flow of customers, they face challenges in optimizing their order fulfillment process, leading to delays during peak hours, which results in customer dissatisfaction and impacts repeat business. Additionally, they struggle with inventory management, often experiencing shortages of popular ingredients or excess stock of less favored items. To address these issues, they are implementing a new order management system and seeking to analyze sales data to better predict demand and streamline inventory."
   ]
  },
  {
   "cell_type": "markdown",
   "metadata": {
    "nteract": {
     "transient": {
      "deleting": false
     }
    }
   },
   "source": [
    "### **Objective**"
   ]
  },
  {
   "cell_type": "markdown",
   "metadata": {
    "nteract": {
     "transient": {
      "deleting": false
     }
    }
   },
   "source": [
    "You have been engaged by the business as a Data Analyst to enhance operational efficiency and boost customer satisfaction. You have been provided with raw historical sales data and tasked with pre-processing historical sales data to uncover trends, building an interactive dashboard to enable visual reporting of key metrics, and generating email reports to communicate key insights to stakeholders. This will enable the stakeholders to get a clearer understanding of the business, stay on top of changing market scenarios via frequent alerts, and make quick, informed decisions to resolve operational challenges. The anticipated outcomes include reduced order processing times, improved inventory turnover, and increased customer satisfaction leading to higher repeat sales."
   ]
  },
  {
   "cell_type": "markdown",
   "metadata": {
    "nteract": {
     "transient": {
      "deleting": false
     }
    }
   },
   "source": [
    "### **Data Description:**"
   ]
  },
  {
   "cell_type": "markdown",
   "metadata": {
    "nteract": {
     "transient": {
      "deleting": false
     }
    }
   },
   "source": [
    "This dataset contain detailed information about pizza orders, including specifics about the pizza variants, quantities, pricing, dates, times, and categorization details.\n",
    "- **pizza_id:** A unique identifier assigned to each distinct pizza variant available for ordering.  \n",
    "- **order_id:** A unique identifier for each order made, which links to multiple pizzas.  \n",
    "- **pizza_name_id:** An identifier linking to a specific name of the pizza.  \n",
    "- **quantity:** The number of units of a specific pizza variant ordered within an order.  \n",
    "- **order_date:** The date when the order was placed.  \n",
    "- **order_time:** The time when the order was placed.  \n",
    "- **unit_price:** The cost of a single unit of the specific pizza variant.  \n",
    "- **pizza_size:** Represents the size of the pizza (e.g., small, medium, large).  \n",
    "- **pizza_category:** Indicates the category of the pizza, such as vegetarian, non-vegetarian, etc.  \n",
    "- **pizza_name:** Specifies the name of the specific pizza variant ordered.  "
   ]
  },
  {
   "cell_type": "markdown",
   "metadata": {},
   "source": [
    "### **Please read the instructions carefully before starting the project.**\n",
    "This is a commented Python Notebook file in which all the instructions and tasks to be performed are mentioned. Read along carefully to complete the project.\n",
    "* Blanks '_______' are provided in the notebook that\n",
    "needs to be filled with an appropriate code to get the correct result. Please replace the blank with the right code snippet. With every '_______' blank, there is a comment that briefly describes what needs to be filled in the blank space.\n",
    "* Identify the task to be performed correctly, and only then proceed to write the required code.\n",
    "* Fill the code wherever asked by the commented lines like \"# write your code here\" or \"# complete the code\". Running incomplete code may throw an error.\n",
    "* Please run the codes in a sequential manner from the beginning to avoid any unnecessary errors.\n",
    "* You can use the results/observations derived from the analysis here to create your final presentation.\n"
   ]
  },
  {
   "cell_type": "markdown",
   "metadata": {
    "nteract": {
     "transient": {
      "deleting": false
     }
    }
   },
   "source": [
    "## **AzureML Setup and Data Loading**"
   ]
  },
  {
   "cell_type": "markdown",
   "metadata": {
    "nteract": {
     "transient": {
      "deleting": false
     }
    }
   },
   "source": [
    "### **Connect to Azure Machine Learning Workspace**"
   ]
  },
  {
   "cell_type": "code",
   "execution_count": 34,
   "metadata": {
    "collapsed": false,
    "gather": {
     "logged": 1728104747643
    },
    "jupyter": {
     "outputs_hidden": false,
     "source_hidden": false
    },
    "nteract": {
     "transient": {
      "deleting": false
     }
    }
   },
   "outputs": [],
   "source": [
    "# =======================\n",
    "# HANDLE TO THE WORKSPACE\n",
    "# =======================\n",
    "from azure.ai.ml import MLClient\n",
    "\n",
    "# ======================\n",
    "# AUTHENTICATION PACKAGE\n",
    "# ======================\n",
    "from azure.identity import DefaultAzureCredential\n",
    "credential = DefaultAzureCredential()"
   ]
  },
  {
   "cell_type": "code",
   "execution_count": 7,
   "metadata": {
    "collapsed": false,
    "gather": {
     "logged": 1728104806774
    },
    "jupyter": {
     "outputs_hidden": false,
     "source_hidden": false
    },
    "nteract": {
     "transient": {
      "deleting": false
     }
    }
   },
   "outputs": [],
   "source": [
    "# =============================\n",
    "# GET A HANDLE TO THE WORKSPACE\n",
    "# =============================\n",
    "ml_client = MLClient(\n",
    "    credential=credential,\n",
    "    subscription_id=\"af6e7bea-cbc6-4f83-ab20-3169af7fccdf\",\n",
    "    resource_group_name=\"default_resource_group\",\n",
    "    workspace_name=\"pizza-sales-intelligent-reporting\",\n",
    ")"
   ]
  },
  {
   "cell_type": "markdown",
   "metadata": {
    "nteract": {
     "transient": {
      "deleting": false
     }
    }
   },
   "source": [
    "### **Create Compute Cluster**"
   ]
  },
  {
   "cell_type": "code",
   "execution_count": 29,
   "metadata": {
    "collapsed": false,
    "gather": {
     "logged": 1728104839082
    },
    "jupyter": {
     "outputs_hidden": false,
     "source_hidden": false
    },
    "nteract": {
     "transient": {
      "deleting": false
     }
    }
   },
   "outputs": [],
   "source": [
    "from azure.ai.ml.entities import AmlCompute\n",
    "# ====================================\n",
    "# NAME ASSIGNED TO THE COMPUTE CLUSTER\n",
    "# ====================================\n",
    "cpu_compute_target = \"cpu-cluster\"\n",
    "\n",
    "try:\n",
    "    # CHECK IF COMPUT CLUSTER ALREADY EXISTS\n",
    "    cpu_cluster = ml_client.compute.get(cpu_compute_target)\n",
    "    print(\n",
    "        f\"You already have a cluster named {cpu_compute_target}, we'll reuse it as is.\"\n",
    "    )\n",
    "\n",
    "except Exception:\n",
    "    print(\"Creating a new cpu compute target...\")\n",
    "\n",
    "    # CREATE THE AZURE ML COMPUTE OBJECT WITH INTENDED PARAMETERS\n",
    "    cpu_cluster = AmlCompute(\n",
    "        name=cpu_compute_target,\n",
    "        # AZURE ML COMPUTE IS THE ON-DEMAND VM SERVICE\n",
    "        type=\"amlcompute\",\n",
    "        # VM FAMILY\n",
    "        size=\"Standard_A2_v2\",\n",
    "        # MINIMUM RUNNING NODES WHEN THERE IS NO JOB RUNNING\n",
    "        min_instances=0,\n",
    "        # NODES IN CLUSTER\n",
    "        max_instances=1,\n",
    "        # How MANY SECONDS WILL THE NODE BE RUNNING AFTER THE JOB TERMINATION\n",
    "        idle_time_before_scale_down=180,\n",
    "        # Dedicated or LowPriority. THE LATTER IS CHEAPER BUT THERE IS A CHANCE OF JOB TERMINATION\n",
    "        tier=\"Dedicated\",\n",
    "    )\n",
    "\n",
    "    # PASS THE cpu_cluster OBJECT TO MLClIENT'S CREATE OR UPDATE METHOD\n",
    "    cpu_cluster = ml_client.compute.begin_create_or_update(cpu_cluster).result()\n",
    "\n",
    "print(\n",
    "    f\"AMLCompute with name {cpu_cluster.name} is created, the compute size is {cpu_cluster.size}\"\n",
    ")"
   ]
  },
  {
   "cell_type": "markdown",
   "metadata": {
    "nteract": {
     "transient": {
      "deleting": false
     }
    }
   },
   "source": [
    "### **Register Dataset into Data Assets**"
   ]
  },
  {
   "cell_type": "code",
   "execution_count": 11,
   "metadata": {
    "collapsed": false,
    "gather": {
     "logged": 1728104858058
    },
    "jupyter": {
     "outputs_hidden": false,
     "source_hidden": false
    },
    "nteract": {
     "transient": {
      "deleting": false
     }
    }
   },
   "outputs": [],
   "source": [
    "from azure.ai.ml.entities import Data\n",
    "from azure.ai.ml.constants import AssetTypes\n",
    "\n",
    "local_data_path = '___________'    #Provide the path of the input data\n",
    "\n",
    "data_asset = Data(\n",
    "    path=local_data_path,\n",
    "    type=AssetTypes.uri_file,  \n",
    "    description=\"A dataset of pizza\",\n",
    "    name=\"pizza-analysis-data\"\n",
    ")"
   ]
  },
  {
   "cell_type": "code",
   "execution_count": 30,
   "metadata": {
    "collapsed": false,
    "gather": {
     "logged": 1728104861154
    },
    "jupyter": {
     "outputs_hidden": false,
     "source_hidden": false
    },
    "nteract": {
     "transient": {
      "deleting": false
     }
    }
   },
   "outputs": [],
   "source": [
    "ml_client.data.create_or_update(data_asset)"
   ]
  },
  {
   "cell_type": "markdown",
   "metadata": {
    "nteract": {
     "transient": {
      "deleting": false
     }
    }
   },
   "source": [
    "### **Create a Job Environment**"
   ]
  },
  {
   "cell_type": "code",
   "execution_count": 13,
   "metadata": {
    "collapsed": false,
    "gather": {
     "logged": 1728104877486
    },
    "jupyter": {
     "outputs_hidden": false,
     "source_hidden": false
    },
    "nteract": {
     "transient": {
      "deleting": false
     }
    }
   },
   "outputs": [],
   "source": [
    "# Create a directory for the preprocessing script\n",
    "import os\n",
    "\n",
    "src_dir_env = \"./project_env\"\n",
    "os.makedirs(src_dir_env, exist_ok=True)"
   ]
  },
  {
   "cell_type": "code",
   "execution_count": 31,
   "metadata": {
    "collapsed": false,
    "jupyter": {
     "outputs_hidden": false,
     "source_hidden": false
    },
    "nteract": {
     "transient": {
      "deleting": false
     }
    }
   },
   "outputs": [],
   "source": [
    "%%writefile {src_dir_env}/conda.yml\n",
    "name: sklearn-env\n",
    "channels:\n",
    "  - conda-forge\n",
    "dependencies:\n",
    "  - python=3.8\n",
    "  - pip=21.2.4\n",
    "  - scikit-learn=0.23.2\n",
    "  - scipy=1.7.1\n",
    "  - pip:  \n",
    "    - mlflow==2.8.1\n",
    "    - azureml-mlflow==1.51.0\n",
    "    - azureml-inference-server-http\n",
    "    - azureml-core==1.57.0\n",
    "    - cloudpickle==1.6.0\n",
    "    - huggingface_hub\n",
    "    - datasets\n",
    "    - seaborn\n",
    "    - pandas"
   ]
  },
  {
   "cell_type": "code",
   "execution_count": 32,
   "metadata": {
    "collapsed": false,
    "gather": {
     "logged": 1728104880767
    },
    "jupyter": {
     "outputs_hidden": false,
     "source_hidden": false
    },
    "nteract": {
     "transient": {
      "deleting": false
     }
    }
   },
   "outputs": [],
   "source": [
    "from azure.ai.ml.entities import Environment, BuildContext\n",
    "\n",
    "env_docker_conda = Environment(\n",
    "    image=\"mcr.microsoft.com/azureml/openmpi4.1.0-ubuntu20.04\",\n",
    "    conda_file=\"_____________\",    #Specify the path of the code file\n",
    "    name=\"project-env\",\n",
    "    description=\"Environment created from a Docker image plus Conda environment.\",\n",
    ")\n",
    "ml_client.environments.create_or_update(env_docker_conda)"
   ]
  },
  {
   "cell_type": "markdown",
   "metadata": {
    "nteract": {
     "transient": {
      "deleting": false
     }
    }
   },
   "source": [
    "## Exploratory Data Analysis"
   ]
  },
  {
   "cell_type": "markdown",
   "metadata": {
    "nteract": {
     "transient": {
      "deleting": false
     }
    }
   },
   "source": [
    "### **Data Overview**"
   ]
  },
  {
   "cell_type": "code",
   "execution_count": 1,
   "metadata": {
    "collapsed": false,
    "gather": {
     "logged": 1728104946122
    },
    "jupyter": {
     "outputs_hidden": false,
     "source_hidden": false
    },
    "nteract": {
     "transient": {
      "deleting": false
     }
    }
   },
   "outputs": [],
   "source": [
    "# Uncomment one of the following code snippets and execute it to install the seaborn library\n",
    "# !pip install seaborn  \n",
    "# pip install seaborn"
   ]
  },
  {
   "cell_type": "code",
   "execution_count": 19,
   "metadata": {
    "collapsed": false,
    "gather": {
     "logged": 1728104957016
    },
    "jupyter": {
     "outputs_hidden": false,
     "source_hidden": false
    },
    "nteract": {
     "transient": {
      "deleting": false
     }
    }
   },
   "outputs": [],
   "source": [
    "import pandas as pd\n",
    "import numpy as np\n",
    "import matplotlib.pyplot as plt\n",
    "import seaborn as sns"
   ]
  },
  {
   "cell_type": "code",
   "execution_count": 27,
   "metadata": {
    "collapsed": false,
    "gather": {
     "logged": 1728104965676
    },
    "jupyter": {
     "outputs_hidden": false,
     "source_hidden": false
    },
    "nteract": {
     "transient": {
      "deleting": false
     }
    }
   },
   "outputs": [],
   "source": [
    "data = pd.read_csv('_______')    #Replace the path of the dataset"
   ]
  },
  {
   "cell_type": "code",
   "execution_count": 4,
   "metadata": {
    "collapsed": false,
    "gather": {
     "logged": 1728104967727
    },
    "jupyter": {
     "outputs_hidden": false,
     "source_hidden": false
    },
    "nteract": {
     "transient": {
      "deleting": false
     }
    }
   },
   "outputs": [],
   "source": [
    "data.____()  #get the top5 records"
   ]
  },
  {
   "cell_type": "code",
   "execution_count": 7,
   "metadata": {
    "collapsed": false,
    "gather": {
     "logged": 1728104968582
    },
    "jupyter": {
     "outputs_hidden": false,
     "source_hidden": false
    },
    "nteract": {
     "transient": {
      "deleting": false
     }
    }
   },
   "outputs": [],
   "source": [
    "data._____() #check the shape of the dataset"
   ]
  },
  {
   "cell_type": "code",
   "execution_count": 6,
   "metadata": {
    "collapsed": false,
    "gather": {
     "logged": 1728104969040
    },
    "jupyter": {
     "outputs_hidden": false,
     "source_hidden": false
    },
    "nteract": {
     "transient": {
      "deleting": false
     }
    }
   },
   "outputs": [],
   "source": [
    "data.____()   #get the info of the dataset"
   ]
  },
  {
   "cell_type": "code",
   "execution_count": 26,
   "metadata": {
    "collapsed": false,
    "gather": {
     "logged": 1728104969570
    },
    "jupyter": {
     "outputs_hidden": false,
     "source_hidden": false
    },
    "nteract": {
     "transient": {
      "deleting": false
     }
    }
   },
   "outputs": [],
   "source": [
    "data.________(include='all').T   #replace the blank with a command which can generate the summary of the dataset "
   ]
  },
  {
   "cell_type": "code",
   "execution_count": 25,
   "metadata": {
    "collapsed": false,
    "gather": {
     "logged": 1728104970225
    },
    "jupyter": {
     "outputs_hidden": false,
     "source_hidden": false
    },
    "nteract": {
     "transient": {
      "deleting": false
     }
    }
   },
   "outputs": [
    {
     "data": {
      "text/plain": [
       "0"
      ]
     },
     "execution_count": 25,
     "metadata": {},
     "output_type": "execute_result"
    }
   ],
   "source": [
    "data.________.sum()   #calculate the total duplicated values in the dataset"
   ]
  },
  {
   "cell_type": "code",
   "execution_count": 25,
   "metadata": {
    "collapsed": false,
    "gather": {
     "logged": 1728104976473
    },
    "jupyter": {
     "outputs_hidden": false,
     "source_hidden": false
    },
    "nteract": {
     "transient": {
      "deleting": false
     }
    }
   },
   "outputs": [],
   "source": [
    "data.isnull().______()   #get the total missing values "
   ]
  },
  {
   "cell_type": "code",
   "execution_count": 27,
   "metadata": {
    "collapsed": false,
    "gather": {
     "logged": 1728104977113
    },
    "jupyter": {
     "outputs_hidden": false,
     "source_hidden": false
    },
    "nteract": {
     "transient": {
      "deleting": false
     }
    }
   },
   "outputs": [],
   "source": [
    "df = data.copy()"
   ]
  },
  {
   "cell_type": "markdown",
   "metadata": {
    "nteract": {
     "transient": {
      "deleting": false
     }
    }
   },
   "source": [
    "### **Univariate Analysis**"
   ]
  },
  {
   "cell_type": "code",
   "execution_count": 28,
   "metadata": {
    "collapsed": false,
    "gather": {
     "logged": 1728104982870
    },
    "jupyter": {
     "outputs_hidden": false,
     "source_hidden": false
    },
    "nteract": {
     "transient": {
      "deleting": false
     }
    }
   },
   "outputs": [
    {
     "data": {
      "image/png": "[encoded data removed]",
      "text/plain": [
       "<Figure size 640x480 with 1 Axes>"
      ]
     },
     "metadata": {},
     "output_type": "display_data"
    }
   ],
   "source": [
    "sns.histplot(data=df, x=\"quantity\"); "
   ]
  },
  {
   "cell_type": "code",
   "execution_count": 8,
   "metadata": {
    "collapsed": false,
    "gather": {
     "logged": 1728104983976
    },
    "jupyter": {
     "outputs_hidden": false,
     "source_hidden": false
    },
    "nteract": {
     "transient": {
      "deleting": false
     }
    }
   },
   "outputs": [],
   "source": [
    "sns.histplot(data=df, x=\"_______\");  #plot the disutribution of unit price column"
   ]
  },
  {
   "cell_type": "code",
   "execution_count": 10,
   "metadata": {
    "collapsed": false,
    "gather": {
     "logged": 1728104985561
    },
    "jupyter": {
     "outputs_hidden": false,
     "source_hidden": false
    },
    "nteract": {
     "transient": {
      "deleting": false
     }
    }
   },
   "outputs": [],
   "source": [
    "sns.histplot(data=df, x=\"_________\");  #plot the distribution of the total price column"
   ]
  },
  {
   "cell_type": "code",
   "execution_count": 32,
   "metadata": {
    "collapsed": false,
    "gather": {
     "logged": 1728104987500
    },
    "jupyter": {
     "outputs_hidden": false,
     "source_hidden": false
    },
    "nteract": {
     "transient": {
      "deleting": false
     }
    }
   },
   "outputs": [
    {
     "data": {
      "text/plain": [
       "<Axes: xlabel='pizza_size', ylabel='count'>"
      ]
     },
     "execution_count": 32,
     "metadata": {},
     "output_type": "execute_result"
    },
    {
     "data": {
      "image/png": "[encoded data removed]",
      "text/plain": [
       "<Figure size 640x480 with 1 Axes>"
      ]
     },
     "metadata": {},
     "output_type": "display_data"
    }
   ],
   "source": [
    "sns.countplot(data=df, x='pizza_size')"
   ]
  },
  {
   "cell_type": "code",
   "execution_count": 11,
   "metadata": {
    "collapsed": false,
    "gather": {
     "logged": 1728104986659
    },
    "jupyter": {
     "outputs_hidden": false,
     "source_hidden": false
    },
    "nteract": {
     "transient": {
      "deleting": false
     }
    }
   },
   "outputs": [],
   "source": [
    "sns._________(data=df, x='pizza_category');  #Provide the plot that can count the pizza category "
   ]
  },
  {
   "cell_type": "code",
   "execution_count": 22,
   "metadata": {
    "collapsed": false,
    "gather": {
     "logged": 1728104987929
    },
    "jupyter": {
     "outputs_hidden": false,
     "source_hidden": false
    },
    "nteract": {
     "transient": {
      "deleting": false
     }
    }
   },
   "outputs": [],
   "source": [
    "df['pizza_name'].________()  #get the count of each pizza name  "
   ]
  },
  {
   "cell_type": "markdown",
   "metadata": {
    "nteract": {
     "transient": {
      "deleting": false
     }
    }
   },
   "source": [
    "### **Feature Engineering**"
   ]
  },
  {
   "cell_type": "code",
   "execution_count": 12,
   "metadata": {
    "collapsed": false,
    "gather": {
     "logged": 1728104998935
    },
    "jupyter": {
     "outputs_hidden": false,
     "source_hidden": false
    },
    "nteract": {
     "transient": {
      "deleting": false
     }
    }
   },
   "outputs": [],
   "source": [
    "df['order_time'] = pd._________(df['order_date'] + \" \" + df['order_time'], format='mixed')   #convert the dtype of order_date and order_time from object to datetime format\n",
    "df.______(columns=['order_date'], inplace=True)   #drop the order_date column once we create a new feature in the above mentioned code\n",
    "df.head()"
   ]
  },
  {
   "cell_type": "code",
   "execution_count": 13,
   "metadata": {
    "collapsed": false,
    "gather": {
     "logged": 1728104999421
    },
    "jupyter": {
     "outputs_hidden": false,
     "source_hidden": false
    },
    "nteract": {
     "transient": {
      "deleting": false
     }
    }
   },
   "outputs": [],
   "source": [
    "df['order_month'] = df['order_time']._______ #extract the month  \n",
    "\n",
    "# Map the day with morning, afternoon and evening with the following constraints\n",
    "# 6 < x < 12 then morning\n",
    "# 12 < x < 18 then afternoon\n",
    "# otherwise evening\n",
    "\n",
    "df['time_of_day'] = df['order_time'].dt.hour.apply(lambda x: ___________________)\n",
    "df.head()"
   ]
  },
  {
   "cell_type": "code",
   "execution_count": 23,
   "metadata": {
    "collapsed": false,
    "gather": {
     "logged": 1728104999886
    },
    "jupyter": {
     "outputs_hidden": false,
     "source_hidden": false
    },
    "nteract": {
     "transient": {
      "deleting": false
     }
    }
   },
   "outputs": [],
   "source": [
    "df.order_month.value_counts()"
   ]
  },
  {
   "cell_type": "code",
   "execution_count": 24,
   "metadata": {
    "collapsed": false,
    "gather": {
     "logged": 1728105000328
    },
    "jupyter": {
     "outputs_hidden": false,
     "source_hidden": false
    },
    "nteract": {
     "transient": {
      "deleting": false
     }
    }
   },
   "outputs": [],
   "source": [
    "df.time_of_day.value_counts()"
   ]
  },
  {
   "cell_type": "markdown",
   "metadata": {
    "nteract": {
     "transient": {
      "deleting": false
     }
    }
   },
   "source": [
    "### **Bivariate Analysis**"
   ]
  },
  {
   "cell_type": "code",
   "execution_count": 38,
   "metadata": {
    "collapsed": false,
    "gather": {
     "logged": 1728105005656
    },
    "jupyter": {
     "outputs_hidden": false,
     "source_hidden": false
    },
    "nteract": {
     "transient": {
      "deleting": false
     }
    }
   },
   "outputs": [
    {
     "data": {
      "image/png": "[encoded data removed]",
      "text/plain": [
       "<Figure size 640x480 with 1 Axes>"
      ]
     },
     "metadata": {},
     "output_type": "display_data"
    }
   ],
   "source": [
    "sns.countplot(data=df, x='time_of_day', hue=\"pizza_category\")     \n",
    "plt.legend(bbox_to_anchor=(1,1));"
   ]
  },
  {
   "cell_type": "code",
   "execution_count": 14,
   "metadata": {
    "collapsed": false,
    "gather": {
     "logged": 1728105006806
    },
    "jupyter": {
     "outputs_hidden": false,
     "source_hidden": false
    },
    "nteract": {
     "transient": {
      "deleting": false
     }
    }
   },
   "outputs": [],
   "source": [
    "sns.countplot(data=df, x='_______', hue=\"______\")   #display the plot which shows demand of pizza size across the time of the day \n",
    "plt.legend(bbox_to_anchor=(1,1));"
   ]
  },
  {
   "cell_type": "code",
   "execution_count": null,
   "metadata": {
    "collapsed": false,
    "gather": {
     "logged": 1728105009001
    },
    "jupyter": {
     "outputs_hidden": false,
     "source_hidden": false
    },
    "nteract": {
     "transient": {
      "deleting": false
     }
    }
   },
   "outputs": [],
   "source": [
    "sns._______(data=df, x=\"order_month\", y=\"total_price\", hue=\"pizza_category\", estimator='sum', errorbar=None, marker=\"o\")   #write the appropriate plot which can show the trend over the months  \n",
    "plt.legend(bbox_to_anchor=(1,1));"
   ]
  },
  {
   "cell_type": "markdown",
   "metadata": {
    "nteract": {
     "transient": {
      "deleting": false
     }
    }
   },
   "source": [
    "## **Data Preprocessing**"
   ]
  },
  {
   "cell_type": "code",
   "execution_count": 41,
   "metadata": {
    "collapsed": false,
    "gather": {
     "logged": 1728105009556
    },
    "jupyter": {
     "outputs_hidden": false,
     "source_hidden": false
    },
    "nteract": {
     "transient": {
      "deleting": false
     }
    }
   },
   "outputs": [],
   "source": [
    "# Create a directory for the preprocessing script\n",
    "import os\n",
    "\n",
    "src_dir_job_scripts = \"./project_scripts\"\n",
    "os.makedirs(src_dir_job_scripts, exist_ok=True)"
   ]
  },
  {
   "cell_type": "markdown",
   "metadata": {
    "nteract": {
     "transient": {
      "deleting": false
     }
    }
   },
   "source": [
    "### **Create Preprocessing Script**"
   ]
  },
  {
   "cell_type": "code",
   "execution_count": 28,
   "metadata": {
    "collapsed": false,
    "jupyter": {
     "outputs_hidden": false,
     "source_hidden": false
    },
    "nteract": {
     "transient": {
      "deleting": false
     }
    }
   },
   "outputs": [],
   "source": [
    "%%writefile {src_dir_job_scripts}/pre_process.py\n",
    "\n",
    "import argparse\n",
    "import pandas as pd\n",
    "from pathlib import Path\n",
    "\n",
    "if __name__ == \"__main__\":\n",
    "\n",
    "    \"\"\"Main function of the script.\"\"\"\n",
    "\n",
    "    # input and output arguments\n",
    "    parser = argparse.ArgumentParser()\n",
    "    parser.add_argument(\"--data\", type=str, help=\"path to input data\")\n",
    "    parser.add_argument(\"--output\", type=str, help=\"path to output data\")\n",
    "    args = parser.parse_args()\n",
    "\n",
    "    # Read the input data from the specified path\n",
    "    df = pd.read_csv(args.data)\n",
    "    \n",
    "    # Remove Duplicates\n",
    "    df = df._________()\n",
    "\n",
    "    # Handle Missing Values\n",
    "    df = df.________()  # Drop rows with missing values (adjust this as needed)\n",
    "\n",
    "    # Convert to datetime columns\n",
    "    df['order_time'] = pd.___________(df['order_date'] + \" \" + df['order_time'], format='mixed', errors='coerce')\n",
    "    df.________(columns=['order_date'], inplace=True)\n",
    "\n",
    "    # Extract Features from datetime column\n",
    "    df['order_month'] = df['order_time']._________\n",
    "    df['time_of_day'] = df['order_time'].dt.hour.apply(lambda x: ____________)\n",
    "\n",
    "    # Define output paths\n",
    "    output_data_store = args.output\n",
    "    preprocessed_data_output_path = Path(output_data_store, \"processed_data.csv\")\n",
    "\n",
    "    # Save the processed data\n",
    "    df.to_csv(preprocessed_data_output_path, index=False)"
   ]
  },
  {
   "cell_type": "markdown",
   "metadata": {
    "nteract": {
     "transient": {
      "deleting": false
     }
    }
   },
   "source": [
    "### **Creating Preprocessing Job**"
   ]
  },
  {
   "cell_type": "code",
   "execution_count": 43,
   "metadata": {
    "collapsed": false,
    "gather": {
     "logged": 1728105072497
    },
    "jupyter": {
     "outputs_hidden": false,
     "source_hidden": false
    },
    "nteract": {
     "transient": {
      "deleting": false
     }
    }
   },
   "outputs": [],
   "source": [
    "from azure.ai.ml import Input, Output\n",
    "from azure.ai.ml import command"
   ]
  },
  {
   "cell_type": "code",
   "execution_count": 44,
   "metadata": {
    "collapsed": false,
    "gather": {
     "logged": 1728105075905
    },
    "jupyter": {
     "outputs_hidden": false,
     "source_hidden": false
    },
    "nteract": {
     "transient": {
      "deleting": false
     }
    }
   },
   "outputs": [],
   "source": [
    "# Define a data preparation step\n",
    "step_process_pre_process = command(\n",
    "    name=\"data_prep_pizza\", # Name of the step\n",
    "    display_name=\"Data preparation for analysis\", # Display name of the step\n",
    "    description=\"read a .csv input, process and transfrom\", # Description of the step\n",
    "    inputs={\n",
    "        \"data\": Input(type=\"uri_folder\") # Input named \"data\" of type \"uri_folder\"\n",
    "    },\n",
    "    outputs=dict(processed_data=Output(type=\"uri_folder\", mode=\"rw_mount\")),\n",
    "    # The source folder of the component\n",
    "    code='./project_scripts', # Source folder of the component\n",
    "    command=\"python pre_process.py --data ${{inputs.data}} --output ${{outputs.processed_data}}\",\n",
    "    environment=env_docker_conda, # Environment for executing the command\n",
    ")"
   ]
  },
  {
   "cell_type": "markdown",
   "metadata": {
    "nteract": {
     "transient": {
      "deleting": false
     }
    }
   },
   "source": [
    "## **Reporting via Dashboard**"
   ]
  },
  {
   "cell_type": "markdown",
   "metadata": {
    "nteract": {
     "transient": {
      "deleting": false
     }
    }
   },
   "source": [
    "### **Creating Files for the Dashboard**"
   ]
  },
  {
   "cell_type": "markdown",
   "metadata": {
    "nteract": {
     "transient": {
      "deleting": false
     }
    }
   },
   "source": [
    "#### Creating Directory"
   ]
  },
  {
   "cell_type": "code",
   "execution_count": 45,
   "metadata": {
    "collapsed": false,
    "gather": {
     "logged": 1728105078495
    },
    "jupyter": {
     "outputs_hidden": false,
     "source_hidden": false
    },
    "nteract": {
     "transient": {
      "deleting": false
     }
    }
   },
   "outputs": [],
   "source": [
    "# Create a directory for the preprocessing script\n",
    "import os\n",
    "\n",
    "src_dir_hf_space = \"./project_files\"\n",
    "os.makedirs(src_dir_hf_space, exist_ok=True)"
   ]
  },
  {
   "cell_type": "markdown",
   "metadata": {
    "nteract": {
     "transient": {
      "deleting": false
     }
    }
   },
   "source": [
    "#### Creating Dashboard Script"
   ]
  },
  {
   "cell_type": "code",
   "execution_count": 16,
   "metadata": {
    "collapsed": false,
    "jupyter": {
     "outputs_hidden": false,
     "source_hidden": false
    },
    "nteract": {
     "transient": {
      "deleting": false
     }
    }
   },
   "outputs": [],
   "source": [
    "%%writefile {src_dir_hf_space}/app.py\n",
    "import streamlit as st\n",
    "import seaborn as sns\n",
    "import matplotlib.pyplot as plt\n",
    "import pandas as pd\n",
    "\n",
    "# Load data\n",
    "def load_data():\n",
    "    df = pd.read_csv(\"processed_data.csv\")  # replace with your dataset\n",
    "    return df\n",
    "\n",
    "# Create Streamlit app\n",
    "def app():\n",
    "    # Title for the app\n",
    "    st.title(\"Pizza Sales Data Analysis Dashboard\")\n",
    "    df = load_data()\n",
    "\n",
    "    df = pd.DataFrame(df)\n",
    "\n",
    "    # Calculate key metrics\n",
    "    total_orders = df['order_id']._______()    #Write the appropriate function which can calculate the number of unique values\n",
    "    total_revenue = df['total_price']._____()  #Write a appropriate function which can sum the column\n",
    "    most_popular_size = df['pizza_size'].value_counts()._____    #Write a appropriate function which can get the maximum value \n",
    "    most_frequent_category = df['pizza_category'].__________.idxmax()    #Write a appropriate function which can count of value of each product\n",
    "    total_pizzas_sold = df['quantity'].sum()\n",
    "\n",
    "    # Sidebar with key metrics\n",
    "    st.sidebar.header(\"Key Metrics\")\n",
    "    st.sidebar.metric(\"Total Orders\", total_orders)\n",
    "    st.sidebar.metric(\"Total Revenue\", f\"${total_revenue:,.2f}\")\n",
    "    st.sidebar.metric(\"Most Popular Size\", most_popular_size)\n",
    "    st.sidebar.metric(\"Most Popular Category\", most_frequent_category)\n",
    "    st.sidebar.metric(\"Total Pizzas Sold\", total_pizzas_sold)\n",
    "\n",
    "    plots = [\n",
    "        {\"title\": \"Top Selling Pizzas (by Quantity)\", \"x\": \"_______\", \"y\": \"_________\", \"top\": 5},    #Write the appropriiate column as per the title given\n",
    "        {\"title\": \"Quantity of Pizzas Sold by Category and Time of the Day\", \"x\": \"_________\", \"hue\": \"_________\"},   #Write the appropriiate column as per the title given\n",
    "        {\"title\": \"Quantity of Pizzas Sold by Size and Time of the Day\", \"x\": \"_________\", \"hue\": \"__________\"},  #Write the appropriiate column as per the title given\n",
    "        {\"title\": \"Monthly Revenue Trends by Pizza Category\", \"x\": \"____________\", \"y\": \"_____________\", \"hue\": \"___________\", \"estimator\": \"sum\", \"marker\": \"o\"}, #Write the appropriiate column as per the title given\n",
    "    ]\n",
    "\n",
    "    for plot in plots:\n",
    "      st.header(plot[\"title\"])\n",
    "      \n",
    "      fig, ax = plt.subplots()\n",
    "      \n",
    "      if \"Top Selling Pizzas\" in plot[\"title\"]:\n",
    "        data_aux = df.groupby(plot[\"x\"])[plot[\"y\"]].sum().reset_index().sort_values(by=plot[\"y\"], ascending=False).head(plot[\"top\"])\n",
    "        ax.bar(data_aux[plot[\"x\"]].values.tolist(), data_aux[plot[\"y\"]].values.tolist())\n",
    "      \n",
    "      if \"Quantity of Pizzas\" in plot[\"title\"]:\n",
    "        sns.countplot(data=df, x=plot[\"x\"], hue=plot[\"hue\"], ax=ax)\n",
    "      \n",
    "      if \"Monthly Revenue\" in plot[\"title\"]:\n",
    "        sns.lineplot(data=df, x=plot[\"x\"], y=plot[\"y\"], hue=plot[\"hue\"], estimator=plot[\"estimator\"], errorbar=None, marker=plot[\"marker\"], ax=ax)\n",
    "\n",
    "      ax.set_xlabel(\" \".join(plot[\"x\"].split(\"_\")).capitalize())\n",
    "      if \"y\" in plot.keys():\n",
    "        ax.set_ylabel(\" \".join(plot[\"y\"].split(\"_\")).capitalize())\n",
    "      else:\n",
    "        ax.set_ylabel(\"Quantity\")\n",
    "      ax.legend(bbox_to_anchor=(1,1))\n",
    "\n",
    "      st.pyplot(fig)\n",
    "    \n",
    "\n",
    "if __name__ == \"__main__\":\n",
    "    app()"
   ]
  },
  {
   "cell_type": "markdown",
   "metadata": {
    "nteract": {
     "transient": {
      "deleting": false
     }
    }
   },
   "source": [
    "#### Creating Requirements File"
   ]
  },
  {
   "cell_type": "code",
   "execution_count": 17,
   "metadata": {
    "collapsed": false,
    "jupyter": {
     "outputs_hidden": false,
     "source_hidden": false
    },
    "nteract": {
     "transient": {
      "deleting": false
     }
    }
   },
   "outputs": [],
   "source": [
    "%%writefile {src_dir_hf_space}/requirements.txt\n",
    "pandas==1.5.2\n",
    "matplotlib==3.6.2\n",
    "seaborn==0.12.1\n",
    "scipy==1.10.0\n",
    "numpy==1.23.5"
   ]
  },
  {
   "cell_type": "markdown",
   "metadata": {
    "nteract": {
     "transient": {
      "deleting": false
     }
    }
   },
   "source": [
    "#### Creating Script to Push Files to Hugging Face Space"
   ]
  },
  {
   "cell_type": "code",
   "execution_count": 18,
   "metadata": {
    "collapsed": false,
    "jupyter": {
     "outputs_hidden": false,
     "source_hidden": false
    },
    "nteract": {
     "transient": {
      "deleting": false
     }
    }
   },
   "outputs": [],
   "source": [
    "%%writefile {src_dir_job_scripts}/hugging_face_auth_push_files.py\n",
    "from huggingface_hub import login, HfApi\n",
    "from datasets import Dataset\n",
    "import argparse\n",
    "import os \n",
    "import pandas as pd\n",
    "\n",
    "os.makedirs(\"./outputs\", exist_ok=True) # Create the \"outputs\" directory if it doesn't exist\n",
    "\n",
    "\n",
    "# Once the job 1 run, the output processed_data.csv will gonna store under a output folder that we created below \n",
    "# After the job 1 completes, we can read the processed_data.csv file in the job 2 \n",
    "\n",
    "def select_first_file(path):\n",
    "    \"\"\"Selects first file in folder, use under assumption there is only one file in folder\n",
    "    Args:\n",
    "        path (str): path to directory or file to choose\n",
    "    Returns:\n",
    "        str: full path of selected file\n",
    "    \"\"\"\n",
    "    files = os.listdir(path)\n",
    "    return os.path.join(path, files[0])\n",
    "\n",
    "def main():\n",
    "    parser = argparse.ArgumentParser()\n",
    "\n",
    "    # Provide the input arguments for these job\n",
    "    parser.add_argument(\"--processed_data_push\", type=str, help=\"path to processed data\")\n",
    "    parser.add_argument(\"--streamlit_files\", type=str, help=\"path to streamlit files\")\n",
    "    args = parser.parse_args()\n",
    "\n",
    "    hf_token = \"_________________\"   #Replace the token with an appropriate token value\n",
    "    hf_repo_id = \"________________\"    #Replace the id with the appropriate hugging face id \n",
    "\n",
    "    # Login hugging face platform through access token created in the settings from the hugging face \n",
    "    login(token = hf_token)\n",
    "\n",
    "    # Intiate the api \n",
    "    api = HfApi()\n",
    "\n",
    "    # Upload files such as app.ppy and requirements.txt stored in the folder called files\n",
    "    api.upload_folder(\n",
    "        folder_path=args.streamlit_files,                     # Local folder path in azureml\n",
    "        repo_id=hf_repo_id,                                   # Hugging face space id \n",
    "        repo_type=\"space\",                                    # Hugging face repo type \"space\" \n",
    "    )\n",
    "\n",
    "    # Upload the \n",
    "    api.upload_file(\n",
    "        path_or_fileobj=select_first_file(args.processed_data_push),\n",
    "        path_in_repo=\"processed_data.csv\",\n",
    "        repo_id=hf_repo_id,\n",
    "        repo_type=\"space\",\n",
    "    )\n",
    "\n",
    "if __name__ == '__main__':\n",
    "    main()"
   ]
  },
  {
   "cell_type": "markdown",
   "metadata": {
    "nteract": {
     "transient": {
      "deleting": false
     }
    }
   },
   "source": [
    "### **Creating Dashboard Reporting Job**"
   ]
  },
  {
   "cell_type": "code",
   "execution_count": 49,
   "metadata": {
    "collapsed": false,
    "gather": {
     "logged": 1728105289506
    },
    "jupyter": {
     "outputs_hidden": false,
     "source_hidden": false
    },
    "nteract": {
     "transient": {
      "deleting": false
     }
    }
   },
   "outputs": [],
   "source": [
    "# Define a hugging face authentication script to push files\n",
    "step_hugging_auth = command(\n",
    "    name=\"hugging_face_authentication_dashboard\", # Name of the step\n",
    "    display_name=\"hugging face authentication and push files\", # Display name of the step\n",
    "    description=\"Make authentication and push files to the HF hub\", # Description of the step\n",
    "    inputs={\n",
    "        \"processed_data_push\": Input(type=\"uri_file\"),# Input: Path to the input dataset(job 1 output)\n",
    "        \"streamlit_files\":Input(type=\"uri_folder\"),\n",
    "    },\n",
    "    # The source folder of the component\n",
    "    code='./____________',      #Provide the path of the code directory where hugging_face_auth_push_files.py presents\n",
    "    command=\"python hugging_face_auth_push_files.py \\\n",
    "     --processed_data_push ${{inputs.processed_data_push}} \\\n",
    "     --streamlit_files ${{inputs.streamlit_files}}\"\n",
    "     ,\n",
    "    environment='____________', #Provide the appropriate environment name to execute the script\n",
    ")"
   ]
  },
  {
   "cell_type": "markdown",
   "metadata": {
    "nteract": {
     "transient": {
      "deleting": false
     }
    }
   },
   "source": [
    "## **Reporting via Email**"
   ]
  },
  {
   "cell_type": "markdown",
   "metadata": {
    "nteract": {
     "transient": {
      "deleting": false
     }
    }
   },
   "source": [
    "### **Creating Email Report Script**"
   ]
  },
  {
   "cell_type": "code",
   "execution_count": 21,
   "metadata": {
    "collapsed": false,
    "gather": {
     "logged": 1727286024483
    },
    "jupyter": {
     "outputs_hidden": false,
     "source_hidden": false
    },
    "nteract": {
     "transient": {
      "deleting": false
     }
    }
   },
   "outputs": [],
   "source": [
    "%%writefile {src_dir_job_scripts}/daily_email_report.py\n",
    "import argparse\n",
    "import smtplib\n",
    "from email.mime.multipart import MIMEMultipart\n",
    "from email.mime.text import MIMEText\n",
    "import pandas as pd\n",
    "import os\n",
    "\n",
    "\n",
    "os.makedirs(\"./outputs\", exist_ok=True) # Create the \"outputs\" directory if it doesn't exist\n",
    "\n",
    "\n",
    "def select_first_file(path):\n",
    "    files = os.listdir(path)\n",
    "    return os.path.join(path, files[0])\n",
    "\n",
    "\n",
    "# Define email configuration\n",
    "email_config = {\n",
    "    \"sender_email\": \"____________\",   #Write the sender email\n",
    "    \"receiver_emails\": \"______________\",  #Write the receiver email\n",
    "    \"password\": \"____________\",   #Write the appropriate app password \n",
    "    \"smtp_server\": \"smtp.gmail.com\",\n",
    "    \"smtp_port\": 587\n",
    "}\n",
    "\n",
    "\n",
    "def main():\n",
    "\n",
    "    parser = argparse.ArgumentParser()\n",
    "    parser.add_argument(\"--processed_data\", type=str, help=\"path to processed data\")\n",
    "    args = parser.parse_args()\n",
    "    df = pd.read_csv(select_first_file(args.processed_data))  # Read the processed data\n",
    "\n",
    "    # Calculate the top 5 metrics and complete the blanks with appropriate columns\n",
    "    total_orders = df['_________'].nunique() \n",
    "    total_revenue = df['_________'].sum()  \n",
    "    most_popular_size = df['__________'].value_counts().idxmax()  \n",
    "    most_frequent_category = df['___________'].value_counts().idxmax()  \n",
    "    total_pizzas_sold = df['________'].sum() \n",
    "\n",
    "    # Create a report dictionary for summary\n",
    "    report = {\n",
    "        \"Total Orders\": total_orders,\n",
    "        \"Total Revenue\": total_revenue,\n",
    "        \"Most Popular Pizza Size\": most_popular_size,\n",
    "        \"Most Frequent Pizza Category\": most_frequent_category,\n",
    "        \"Total Pizzas Sold\": total_pizzas_sold,\n",
    "    }\n",
    "\n",
    "\n",
    "    # Create email content\n",
    "    def create_email_content(report):\n",
    "        email_content = f\"\"\"\n",
    "        <p>Dear Team,</p>\n",
    "        <p>__________(Please write the message that you want to send the stakeholders)____________</p>\n",
    "        \n",
    "        <ul>\n",
    "            <li><strong>Total Orders:</strong> {report['Total Orders']}</li>\n",
    "            <li><strong>Total Revenue:</strong> ${report['Total Revenue']:.2f}</li>\n",
    "            <li><strong>Most Popular Pizza Size:</strong> {report['Most Popular Pizza Size']}</li>\n",
    "            <li><strong>Most Frequent Pizza Category:</strong> {report['Most Frequent Pizza Category']}</li>\n",
    "            <li><strong>Total Pizzas Sold:</strong> {report['Total Pizzas Sold']}</li>\n",
    "        </ul>\n",
    "\n",
    "        <p>Regards,<br>Analytics Team</p>\n",
    "        \"\"\"\n",
    "        return email_content\n",
    "\n",
    "    # Send email report\n",
    "    def send_email_report(email_config, report_metrics):\n",
    "        email_content = create_email_content(report_metrics)\n",
    "\n",
    "        server = smtplib.SMTP(email_config['smtp_server'], email_config['smtp_port'])\n",
    "        server.starttls()\n",
    "        server.login(email_config['sender_email'], email_config['password'])\n",
    "\n",
    "        msg = MIMEMultipart()  # Create new MIMEMultipart object for each recipient\n",
    "        msg['From'] = email_config['sender_email']\n",
    "        msg['To'] = email_config['receiver_emails']\n",
    "        msg['Subject'] = 'Pizza Sales Analysis Report'\n",
    "        msg.attach(MIMEText(email_content, 'html'))\n",
    "\n",
    "        text = msg.as_string()\n",
    "        server.sendmail(email_config['sender_email'], email_config['receiver_emails'], text)\n",
    "        print(f\"Email report sent to {email_config['receiver_emails']} successfully!\")\n",
    "\n",
    "        server.quit()\n",
    "\n",
    "    # Call the function to send email report\n",
    "    send_email_report(email_config, report)\n",
    "\n",
    "if __name__ == '__main__':\n",
    "    main()"
   ]
  },
  {
   "cell_type": "markdown",
   "metadata": {
    "nteract": {
     "transient": {
      "deleting": false
     }
    }
   },
   "source": [
    "### **Creating Email Reporting Job**"
   ]
  },
  {
   "cell_type": "code",
   "execution_count": 52,
   "metadata": {
    "collapsed": false,
    "gather": {
     "logged": 1728105313931
    },
    "jupyter": {
     "outputs_hidden": false,
     "source_hidden": false
    },
    "nteract": {
     "transient": {
      "deleting": false
     }
    }
   },
   "outputs": [],
   "source": [
    "# Define a data preparation step\n",
    "step_process_report = command(\n",
    "    name=\"email_report_pizza\", # Name of the step\n",
    "    display_name=\"report emails\", # Display name of the step\n",
    "    description=\"read the processed data, do stats and send metrics\", # Description of the step\n",
    "    inputs={\n",
    "        \"processed_data\": Input(type=\"uri_folder\"),# Input: Path to the training data (URI folder)\n",
    "    },\n",
    "    # The source folder of the component\n",
    "    code='./___________', #Provide the path of the code directory where daily_email_report.py presents\n",
    "    command=\"python daily_email_report.py --processed_data ${{inputs.processed_data}}\",\n",
    "    environment='_________', #Provide the appropriate environment name to execute the script\n",
    ")"
   ]
  },
  {
   "cell_type": "markdown",
   "metadata": {
    "nteract": {
     "transient": {
      "deleting": false
     }
    }
   },
   "source": [
    "## **Building an Analytical Pipeline**"
   ]
  },
  {
   "cell_type": "markdown",
   "metadata": {
    "nteract": {
     "transient": {
      "deleting": false
     }
    }
   },
   "source": [
    "### **Assembling all Jobs into a Single Pipeline**"
   ]
  },
  {
   "cell_type": "code",
   "execution_count": 53,
   "metadata": {
    "collapsed": false,
    "gather": {
     "logged": 1728105315576
    },
    "jupyter": {
     "outputs_hidden": false,
     "source_hidden": false
    },
    "nteract": {
     "transient": {
      "deleting": false
     }
    }
   },
   "outputs": [],
   "source": [
    "from azure.ai.ml import command, Input, Output, dsl \n",
    "\n",
    "@dsl.pipeline(\n",
    "    compute='cpu-cluster',  #compute cluster definition\n",
    "    description=\"Project - Intelligent Reporting Pipeline\"\n",
    ")\n",
    "def project_pipeline_(pipeline_job_data_input,hugging_face_folders):\n",
    "\n",
    "    # Job:1 Data preparation job (Inputs: pizza_sales.csv)\n",
    "    data_prep_job = step_process_pre_process(data=pipeline_job_data_input)\n",
    "\n",
    "    # Job: 2 Hugging face authentication and push files job  (Inputs: processed_data.csv[job 1 output], streamlit files)\n",
    "    hugging_face_job = step_hugging_auth(\n",
    "        processed_data_push = data_prep_job.outputs.processed_data,\n",
    "        streamlit_files = hugging_face_folders\n",
    "    )\n",
    "\n",
    "    # Job:3 Email report job (Inputs: processed_data.csv[job 1 output])\n",
    "    event_job = step_process_report(\n",
    "        processed_data=data_prep_job.outputs.processed_data\n",
    "    )\n",
    "\n",
    "    # a pipeline returns a dictionary of outputs\n",
    "    # keys will code for the pipeline output identifier\n",
    "    return {\"pipeline_job_prep_data\": data_prep_job.outputs.processed_data}"
   ]
  },
  {
   "cell_type": "markdown",
   "metadata": {
    "nteract": {
     "transient": {
      "deleting": false
     }
    }
   },
   "source": [
    "### **Providing Paths for the Jobs**"
   ]
  },
  {
   "cell_type": "code",
   "execution_count": 54,
   "metadata": {
    "collapsed": false,
    "gather": {
     "logged": 1728105316850
    },
    "jupyter": {
     "outputs_hidden": false,
     "source_hidden": false
    },
    "nteract": {
     "transient": {
      "deleting": false
     }
    }
   },
   "outputs": [],
   "source": [
    "# Define paths for input registered data\n",
    "datastore_path = ml_client.data.get(\"____________\", version=\"___\").path   #Write the registered data along with version"
   ]
  },
  {
   "cell_type": "code",
   "execution_count": 55,
   "metadata": {
    "collapsed": false,
    "gather": {
     "logged": 1728105321404
    },
    "jupyter": {
     "outputs_hidden": false,
     "source_hidden": false
    },
    "nteract": {
     "transient": {
      "deleting": false
     }
    }
   },
   "outputs": [],
   "source": [
    "pipeline = project_pipeline_(\n",
    "    pipeline_job_data_input=Input(type=\"uri_file\", path=datastore_path), # Input path\n",
    "    hugging_face_folders = Input(type=\"uri_folder\",path=\"__________\")  #Provide the path of the streamlit files folder directory\n",
    ")"
   ]
  },
  {
   "cell_type": "markdown",
   "metadata": {
    "nteract": {
     "transient": {
      "deleting": false
     }
    }
   },
   "source": [
    "### **Executing the Pipeline**"
   ]
  },
  {
   "cell_type": "code",
   "execution_count": 20,
   "metadata": {
    "collapsed": false,
    "gather": {
     "logged": 1728105337202
    },
    "jupyter": {
     "outputs_hidden": false,
     "source_hidden": false
    },
    "nteract": {
     "transient": {
      "deleting": false
     }
    }
   },
   "outputs": [],
   "source": [
    "pipeline_job = ml_client.jobs.create_or_update(\n",
    "    pipeline,\n",
    "    experiment_name=\"Project 1 - Intelligent Reporting on Azure ML Pipeline\"\n",
    ")"
   ]
  },
  {
   "cell_type": "markdown",
   "metadata": {},
   "source": [
    "# **Power Ahead!**"
   ]
  }
 ],
 "metadata": {
  "kernel_info": {
   "name": "python310-sdkv2"
  },
  "kernelspec": {
   "display_name": "Python 3 (ipykernel)",
   "language": "python",
   "name": "python3"
  },
  "language_info": {
   "codemirror_mode": {
    "name": "ipython",
    "version": 3
   },
   "file_extension": ".py",
   "mimetype": "text/x-python",
   "name": "python",
   "nbconvert_exporter": "python",
   "pygments_lexer": "ipython3",
   "version": "3.11.7"
  },
  "microsoft": {
   "host": {
    "AzureML": {
     "notebookHasBeenCompleted": true
    }
   },
   "ms_spell_check": {
    "ms_spell_check_language": "en"
   }
  },
  "nteract": {
   "version": "nteract-front-end@1.0.0"
  }
 },
 "nbformat": 4,
 "nbformat_minor": 4
}
